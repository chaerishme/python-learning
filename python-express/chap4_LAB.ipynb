{
  "nbformat": 4,
  "nbformat_minor": 0,
  "metadata": {
    "colab": {
      "provenance": []
    },
    "kernelspec": {
      "name": "python3",
      "display_name": "Python 3"
    },
    "language_info": {
      "name": "python"
    }
  },
  "cells": [
    {
      "cell_type": "markdown",
      "source": [
        "팩토리얼 계산하기"
      ],
      "metadata": {
        "id": "rrpT4wH3lvvD"
      }
    },
    {
      "cell_type": "code",
      "execution_count": null,
      "metadata": {
        "colab": {
          "base_uri": "https://localhost:8080/"
        },
        "id": "olAdcmIylqw3",
        "outputId": "95046cba-180d-4847-efde-fa2a1402b698"
      },
      "outputs": [
        {
          "output_type": "stream",
          "name": "stdout",
          "text": [
            "정수를 입력하시오.5\n",
            "5 !은 120 이다.\n"
          ]
        }
      ],
      "source": [
        "n = int(input(\"정수를 입력하시오.\"))\n",
        "fact = 1\n",
        "\n",
        "for i in range (1,n+1):\n",
        "  fact = fact * i\n",
        "\n",
        "print(n,\"!은\", fact, \"이다.\")"
      ]
    },
    {
      "cell_type": "markdown",
      "source": [
        "n각형 계산하기"
      ],
      "metadata": {
        "id": "i5ETqttEnM2j"
      }
    },
    {
      "cell_type": "code",
      "source": [
        "import turtle\n",
        "t = turtle.Turtle()\n",
        "t.shape(\"turtle\")\n",
        "\n",
        "s = turtle.textinput(\"\",\"몇각형을 원하시나요?\")\n",
        "n = int(s)\n",
        "\n",
        "for i range (n):\n",
        "  t.forward(100)\n",
        "  t.left(360/n)\n",
        "\n",
        "turtle.mainloop()\n",
        "turtle.bye()"
      ],
      "metadata": {
        "id": "M9bI3BIEmREu"
      },
      "execution_count": null,
      "outputs": []
    },
    {
      "cell_type": "markdown",
      "source": [
        "방정식의 해 계산하기"
      ],
      "metadata": {
        "id": "GtLvT_AeoAIV"
      }
    },
    {
      "cell_type": "code",
      "source": [
        "COUNT = 100\n",
        "START = 1.0\n",
        "END = 2.0\n",
        "\n",
        "for i in range(COUNT):\n",
        "  x = START + i*((END-START)/COUNT)\n",
        "  f = (x**2 - x - 1)\n",
        "  if abs(f-0.0) < 0.01 :\n",
        "      print(\"방정식의 해는 \", x)"
      ],
      "metadata": {
        "colab": {
          "base_uri": "https://localhost:8080/"
        },
        "id": "GoVlUJ1WoC5r",
        "outputId": "f8683fcb-8179-4896-ae98-b5582668d766"
      },
      "execution_count": null,
      "outputs": [
        {
          "output_type": "stream",
          "name": "stdout",
          "text": [
            "방정식의 해는  1.62\n"
          ]
        }
      ]
    },
    {
      "cell_type": "markdown",
      "source": [
        "구구단 출력"
      ],
      "metadata": {
        "id": "Wpx3Uz9foCAT"
      }
    },
    {
      "cell_type": "code",
      "source": [
        "n = int(input(\"원하는 단은: \"))\n",
        "i = 1\n",
        "\n",
        "while i <= 9 :\n",
        "  print(\"%d*%d=%d\" %(n,i,n*i))\n",
        "  i = i + 1"
      ],
      "metadata": {
        "colab": {
          "base_uri": "https://localhost:8080/"
        },
        "id": "_9WsyDLHZkYX",
        "outputId": "23c2b4d7-ded1-4a0f-db02-7e2b37c7ff5a"
      },
      "execution_count": 2,
      "outputs": [
        {
          "output_type": "stream",
          "name": "stdout",
          "text": [
            "원하는 단은: 9\n",
            "9*1=9\n",
            "9*2=18\n",
            "9*3=27\n",
            "9*4=36\n",
            "9*5=45\n",
            "9*6=54\n",
            "9*7=63\n",
            "9*8=72\n",
            "9*9=81\n"
          ]
        }
      ]
    },
    {
      "cell_type": "markdown",
      "source": [
        "숫자 맞추기 게임"
      ],
      "metadata": {
        "id": "yksm9yu_af5H"
      }
    },
    {
      "cell_type": "code",
      "source": [
        "import random\n",
        "com = random.randint(1,100)\n",
        "tries = 0;\n",
        "print(\"1부터 100 사이의 숫자를 맞추시오.\")\n",
        "\n",
        "while person != com:\n",
        "  person = int(input(\"숫자를 입력하시오.: \"))\n",
        "  tries += 1\n",
        "  if com > person:\n",
        "    print(\"너무 낮음!\")\n",
        "  else :\n",
        "    print(\"너무 높음!\")\n",
        "  \n",
        "if person == com:\n",
        "  print(\"축하합니다. 시도횟수=\",tries)"
      ],
      "metadata": {
        "colab": {
          "base_uri": "https://localhost:8080/"
        },
        "id": "AKu8Z2CrZkds",
        "outputId": "cff43fba-836b-4be8-c697-71be5001e5d9"
      },
      "execution_count": 9,
      "outputs": [
        {
          "output_type": "stream",
          "name": "stdout",
          "text": [
            "1부터 100 사이의 숫자를 맞추시오.\n",
            "숫자를 입력하시오.: 45\n",
            "너무 낮음!\n",
            "숫자를 입력하시오.: 76\n",
            "너무 높음!\n",
            "숫자를 입력하시오.: 64\n",
            "너무 높음!\n",
            "숫자를 입력하시오.: 50\n",
            "너무 낮음!\n",
            "숫자를 입력하시오.: 56\n",
            "너무 낮음!\n",
            "숫자를 입력하시오.: 60\n",
            "너무 높음!\n",
            "숫자를 입력하시오.: 59\n",
            "너무 높음!\n",
            "숫자를 입력하시오.: 58\n",
            "너무 높음!\n",
            "숫자를 입력하시오.: 57\n",
            "너무 높음!\n",
            "축하합니다. 시도횟수= 9\n"
          ]
        }
      ]
    },
    {
      "cell_type": "markdown",
      "source": [
        "초등학생을 위한 산수 문제 발생기\n",
        "\n"
      ],
      "metadata": {
        "id": "9-djaGS0dJQ5"
      }
    },
    {
      "cell_type": "code",
      "source": [
        "import random\n",
        "\n",
        "flag = True\n",
        "while True:\n",
        "  x = random.randint(1,100)\n",
        "  y = random.randint(1,100)\n",
        "  num = int(input(\"%d + %d = \" %(x, y)))\n",
        "  if num == x + y:\n",
        "      print(\"잘했어요!!\")\n",
        "  else:\n",
        "      print(\"틀렸어요. 하지만 다음번에는 잘할 수 있겠죠?\")\n",
        "      flag = False"
      ],
      "metadata": {
        "colab": {
          "base_uri": "https://localhost:8080/",
          "height": 577
        },
        "id": "-r5nC7fVbGWP",
        "outputId": "8a8a954b-cc23-4589-d721-29c4a8c643fa"
      },
      "execution_count": 19,
      "outputs": [
        {
          "output_type": "stream",
          "name": "stdout",
          "text": [
            "99 + 20 = 119\n",
            "잘했어요!!\n",
            "51 + 45 = 96\n",
            "잘했어요!!\n",
            "50 + 53 = 00\n",
            "틀렸어요. 하지만 다음번에는 잘할 수 있겠죠?\n",
            "71 + 100 = 171\n",
            "잘했어요!!\n",
            "3 + 3 = 4\n",
            "틀렸어요. 하지만 다음번에는 잘할 수 있겠죠?\n"
          ]
        },
        {
          "output_type": "error",
          "ename": "KeyboardInterrupt",
          "evalue": "ignored",
          "traceback": [
            "\u001b[0;31m---------------------------------------------------------------------------\u001b[0m",
            "\u001b[0;31mKeyboardInterrupt\u001b[0m                         Traceback (most recent call last)",
            "\u001b[0;32m<ipython-input-19-9280f30dc5f1>\u001b[0m in \u001b[0;36m<cell line: 5>\u001b[0;34m()\u001b[0m\n\u001b[1;32m      5\u001b[0m   \u001b[0mx\u001b[0m \u001b[0;34m=\u001b[0m \u001b[0mrandom\u001b[0m\u001b[0;34m.\u001b[0m\u001b[0mrandint\u001b[0m\u001b[0;34m(\u001b[0m\u001b[0;36m1\u001b[0m\u001b[0;34m,\u001b[0m\u001b[0;36m100\u001b[0m\u001b[0;34m)\u001b[0m\u001b[0;34m\u001b[0m\u001b[0;34m\u001b[0m\u001b[0m\n\u001b[1;32m      6\u001b[0m   \u001b[0my\u001b[0m \u001b[0;34m=\u001b[0m \u001b[0mrandom\u001b[0m\u001b[0;34m.\u001b[0m\u001b[0mrandint\u001b[0m\u001b[0;34m(\u001b[0m\u001b[0;36m1\u001b[0m\u001b[0;34m,\u001b[0m\u001b[0;36m100\u001b[0m\u001b[0;34m)\u001b[0m\u001b[0;34m\u001b[0m\u001b[0;34m\u001b[0m\u001b[0m\n\u001b[0;32m----> 7\u001b[0;31m   \u001b[0mnum\u001b[0m \u001b[0;34m=\u001b[0m \u001b[0mint\u001b[0m\u001b[0;34m(\u001b[0m\u001b[0minput\u001b[0m\u001b[0;34m(\u001b[0m\u001b[0;34m\"%d + %d = \"\u001b[0m \u001b[0;34m%\u001b[0m\u001b[0;34m(\u001b[0m\u001b[0mx\u001b[0m\u001b[0;34m,\u001b[0m \u001b[0my\u001b[0m\u001b[0;34m)\u001b[0m\u001b[0;34m)\u001b[0m\u001b[0;34m)\u001b[0m\u001b[0;34m\u001b[0m\u001b[0;34m\u001b[0m\u001b[0m\n\u001b[0m\u001b[1;32m      8\u001b[0m   \u001b[0;32mif\u001b[0m \u001b[0mnum\u001b[0m \u001b[0;34m==\u001b[0m \u001b[0mx\u001b[0m \u001b[0;34m+\u001b[0m \u001b[0my\u001b[0m\u001b[0;34m:\u001b[0m\u001b[0;34m\u001b[0m\u001b[0;34m\u001b[0m\u001b[0m\n\u001b[1;32m      9\u001b[0m       \u001b[0mprint\u001b[0m\u001b[0;34m(\u001b[0m\u001b[0;34m\"잘했어요!!\"\u001b[0m\u001b[0;34m)\u001b[0m\u001b[0;34m\u001b[0m\u001b[0;34m\u001b[0m\u001b[0m\n",
            "\u001b[0;32m/usr/local/lib/python3.9/dist-packages/ipykernel/kernelbase.py\u001b[0m in \u001b[0;36mraw_input\u001b[0;34m(self, prompt)\u001b[0m\n\u001b[1;32m    849\u001b[0m                 \u001b[0;34m\"raw_input was called, but this frontend does not support input requests.\"\u001b[0m\u001b[0;34m\u001b[0m\u001b[0;34m\u001b[0m\u001b[0m\n\u001b[1;32m    850\u001b[0m             )\n\u001b[0;32m--> 851\u001b[0;31m         return self._input_request(str(prompt),\n\u001b[0m\u001b[1;32m    852\u001b[0m             \u001b[0mself\u001b[0m\u001b[0;34m.\u001b[0m\u001b[0m_parent_ident\u001b[0m\u001b[0;34m,\u001b[0m\u001b[0;34m\u001b[0m\u001b[0;34m\u001b[0m\u001b[0m\n\u001b[1;32m    853\u001b[0m             \u001b[0mself\u001b[0m\u001b[0;34m.\u001b[0m\u001b[0m_parent_header\u001b[0m\u001b[0;34m,\u001b[0m\u001b[0;34m\u001b[0m\u001b[0;34m\u001b[0m\u001b[0m\n",
            "\u001b[0;32m/usr/local/lib/python3.9/dist-packages/ipykernel/kernelbase.py\u001b[0m in \u001b[0;36m_input_request\u001b[0;34m(self, prompt, ident, parent, password)\u001b[0m\n\u001b[1;32m    893\u001b[0m             \u001b[0;32mexcept\u001b[0m \u001b[0mKeyboardInterrupt\u001b[0m\u001b[0;34m:\u001b[0m\u001b[0;34m\u001b[0m\u001b[0;34m\u001b[0m\u001b[0m\n\u001b[1;32m    894\u001b[0m                 \u001b[0;31m# re-raise KeyboardInterrupt, to truncate traceback\u001b[0m\u001b[0;34m\u001b[0m\u001b[0;34m\u001b[0m\u001b[0m\n\u001b[0;32m--> 895\u001b[0;31m                 \u001b[0;32mraise\u001b[0m \u001b[0mKeyboardInterrupt\u001b[0m\u001b[0;34m(\u001b[0m\u001b[0;34m\"Interrupted by user\"\u001b[0m\u001b[0;34m)\u001b[0m \u001b[0;32mfrom\u001b[0m \u001b[0;32mNone\u001b[0m\u001b[0;34m\u001b[0m\u001b[0;34m\u001b[0m\u001b[0m\n\u001b[0m\u001b[1;32m    896\u001b[0m             \u001b[0;32mexcept\u001b[0m \u001b[0mException\u001b[0m \u001b[0;32mas\u001b[0m \u001b[0me\u001b[0m\u001b[0;34m:\u001b[0m\u001b[0;34m\u001b[0m\u001b[0;34m\u001b[0m\u001b[0m\n\u001b[1;32m    897\u001b[0m                 \u001b[0mself\u001b[0m\u001b[0;34m.\u001b[0m\u001b[0mlog\u001b[0m\u001b[0;34m.\u001b[0m\u001b[0mwarning\u001b[0m\u001b[0;34m(\u001b[0m\u001b[0;34m\"Invalid Message:\"\u001b[0m\u001b[0;34m,\u001b[0m \u001b[0mexc_info\u001b[0m\u001b[0;34m=\u001b[0m\u001b[0;32mTrue\u001b[0m\u001b[0;34m)\u001b[0m\u001b[0;34m\u001b[0m\u001b[0;34m\u001b[0m\u001b[0m\n",
            "\u001b[0;31mKeyboardInterrupt\u001b[0m: Interrupted by user"
          ]
        }
      ]
    },
    {
      "cell_type": "markdown",
      "source": [
        "로그인 프로그램"
      ],
      "metadata": {
        "id": "hOUGk56Vj1-w"
      }
    },
    {
      "cell_type": "code",
      "source": [
        "password = \"\"\n",
        "while password != \"pythonisfun\":\n",
        "  password = input(\"암호를 입력하시오: \")\n",
        "print(\"로그인 성공\")"
      ],
      "metadata": {
        "colab": {
          "base_uri": "https://localhost:8080/"
        },
        "id": "zgY-lbRXiJIe",
        "outputId": "6f30554e-9445-401a-bdac-edc3a6e92afe"
      },
      "execution_count": 20,
      "outputs": [
        {
          "output_type": "stream",
          "name": "stdout",
          "text": [
            "암호를 입력하시오: 12345678\n",
            "암호를 입력하시오: password\n",
            "암호를 입력하시오: pythonisfun\n",
            "로그인 성공\n"
          ]
        }
      ]
    },
    {
      "cell_type": "markdown",
      "source": [
        "주사위 합이 6이 되는 경우"
      ],
      "metadata": {
        "id": "Dmr-CeB3keYB"
      }
    },
    {
      "cell_type": "code",
      "source": [
        "for a in range(1,7):\n",
        "  for b in range(1,7):\n",
        "    if a + b == 6:\n",
        "      print(f\"첫번째 주사위={a} 두번째 주사위{b}\")"
      ],
      "metadata": {
        "colab": {
          "base_uri": "https://localhost:8080/"
        },
        "id": "SLfP-hWVkeNc",
        "outputId": "77e6301c-2dbb-44e4-cbf0-7e48427ea166"
      },
      "execution_count": 22,
      "outputs": [
        {
          "output_type": "stream",
          "name": "stdout",
          "text": [
            "첫번째 주사위=1 두번째 주사위5\n",
            "첫번째 주사위=2 두번째 주사위4\n",
            "첫번째 주사위=3 두번째 주사위3\n",
            "첫번째 주사위=4 두번째 주사위2\n",
            "첫번째 주사위=5 두번째 주사위1\n"
          ]
        }
      ]
    },
    {
      "cell_type": "markdown",
      "source": [
        "모든 조합 출력하기"
      ],
      "metadata": {
        "id": "mZDIULTGl3H-"
      }
    },
    {
      "cell_type": "code",
      "source": [
        "persons = [ \"Kim\", \"Park\", \"Lee\", \"Choi\"]\n",
        "restaurants = [ \"Korean\", \"American\", \"French\", \"Chinese\" ]\n",
        "\n",
        "for person in persons:\n",
        "  for restaurant in restaurants:\n",
        "    print(person + \"이 \" + restaurant + \"를 방문\")"
      ],
      "metadata": {
        "colab": {
          "base_uri": "https://localhost:8080/"
        },
        "id": "nq4p1ofckd3g",
        "outputId": "d4d92c5c-79ae-41e6-da1b-136cf77d4d24"
      },
      "execution_count": 25,
      "outputs": [
        {
          "output_type": "stream",
          "name": "stdout",
          "text": [
            "Kim이 Korean를 방문\n",
            "Kim이 American를 방문\n",
            "Kim이 French를 방문\n",
            "Kim이 Chinese를 방문\n",
            "Park이 Korean를 방문\n",
            "Park이 American를 방문\n",
            "Park이 French를 방문\n",
            "Park이 Chinese를 방문\n",
            "Lee이 Korean를 방문\n",
            "Lee이 American를 방문\n",
            "Lee이 French를 방문\n",
            "Lee이 Chinese를 방문\n",
            "Choi이 Korean를 방문\n",
            "Choi이 American를 방문\n",
            "Choi이 French를 방문\n",
            "Choi이 Chinese를 방문\n"
          ]
        }
      ]
    },
    {
      "cell_type": "markdown",
      "source": [
        "소수 찾기"
      ],
      "metadata": {
        "id": "o5pj68oZmdwR"
      }
    },
    {
      "cell_type": "code",
      "source": [
        "N_PRIMES = 50 # 찾아야 하는 소수의 개수\n",
        "num = 2\n",
        "count = 0\n",
        "\n",
        "while count < N_PRIMES :\n",
        "  div = 2\n",
        "  prime = True\n",
        "  \n",
        "  while div < num :\n",
        "    if num % div == 0: #나누어지면 소수가 아님\n",
        "      prime = False\n",
        "      break;\n",
        "    div += 1\n",
        "  if prime:         # 소수이면 소수 개수를 증가하고 출력한다.\n",
        "    count += 1\n",
        "    print(num, end=\" \")\n",
        "\n",
        "  num += 1 #다음수로 간다"
      ],
      "metadata": {
        "colab": {
          "base_uri": "https://localhost:8080/"
        },
        "id": "uudqxKC_m-R7",
        "outputId": "6e2ae382-09c9-480a-e68a-7ee7846345a9"
      },
      "execution_count": 28,
      "outputs": [
        {
          "output_type": "stream",
          "name": "stdout",
          "text": [
            "2 3 5 7 11 13 17 19 23 29 31 37 41 43 47 53 59 61 67 71 73 79 83 89 97 101 103 107 109 113 127 131 137 139 149 151 157 163 167 173 179 181 191 193 197 199 211 223 227 229 "
          ]
        }
      ]
    },
    {
      "cell_type": "markdown",
      "source": [
        "파이 계산하기"
      ],
      "metadata": {
        "id": "iq085VKjoNAh"
      }
    },
    {
      "cell_type": "code",
      "source": [
        "divisor = 1.0\n",
        "divident = 4.0\n",
        "sum = 0.0\n",
        "loop_count = int(input(\"반복횟수:\"))\n",
        "while(loop_count > 0):\n",
        "    sum = sum + divident / divisor\n",
        "    divident *= -1.0\n",
        "    divisor += 2\n",
        "    loop_count -= 1;\n",
        "print(\"Pi = %f\" %sum)"
      ],
      "metadata": {
        "colab": {
          "base_uri": "https://localhost:8080/"
        },
        "id": "M9e543iWoQLV",
        "outputId": "aef05ce6-f5d9-4ad1-e1cd-b7c6f81f33a3"
      },
      "execution_count": 36,
      "outputs": [
        {
          "output_type": "stream",
          "name": "stdout",
          "text": [
            "반복횟수:1000\n",
            "Pi = 3.140593\n"
          ]
        }
      ]
    },
    {
      "cell_type": "markdown",
      "source": [
        "거북이를 랜덤하게 움직이게 하자"
      ],
      "metadata": {
        "id": "ITduzS7lp5qe"
      }
    },
    {
      "cell_type": "code",
      "source": [
        "import turtle\n",
        "import random\n",
        "t = turtle.Turtle()\n",
        "t.shape(\"turtle\")\n",
        "\n",
        "for i in range(30):\n",
        "  length = random.randint(1,100)\n",
        "  t.forward(length)\n",
        "  angle = random.randint(-180,180)\n",
        "  t.right(angle)\n",
        "\n",
        "turtle.mainloop()\n",
        "turtle.bye()\n"
      ],
      "metadata": {
        "id": "Fh4cH9ukp913"
      },
      "execution_count": null,
      "outputs": []
    },
    {
      "cell_type": "markdown",
      "source": [
        "스파이럴 그리기"
      ],
      "metadata": {
        "id": "nOUQlAhjp9sl"
      }
    },
    {
      "cell_type": "code",
      "source": [
        "import turtle\n",
        "\n",
        "t = turtle.Turtle()\n",
        "t.shape(\"turtle\")\n",
        "\n",
        "for i in range(200):\n",
        "  t.forward(2+i/4)\n",
        "  t.left(30-i/12)\n",
        "\n",
        "turtle.mainloop()\n",
        "turtle.bye"
      ],
      "metadata": {
        "id": "vA_BTttorK7E"
      },
      "execution_count": null,
      "outputs": []
    },
    {
      "cell_type": "markdown",
      "source": [
        "도박사의 확률"
      ],
      "metadata": {
        "id": "6uw3al1jsLTc"
      }
    },
    {
      "cell_type": "code",
      "source": [
        "import random\n",
        "\n",
        "initial_money = 50\n",
        "goal = 250\n",
        "wins = 0\n",
        "\n",
        "for i in range(100):\n",
        "  cash = initial_money\n",
        "  while cash > 0 and cash < goal :\n",
        "    number = random.randint(1,2)\n",
        "    if number == 1 :\n",
        "      cash += 1\n",
        "    else :\n",
        "      cash -= 1 \n",
        "  if cash == goal : wins += 1\n",
        "\n",
        "print(\"초기금액 $%d\" %initial_money)\n",
        "print(\"목표 금액 $%d\"%goal)\n",
        "print(\"100번 중에서 %d번 성공\" %wins)"
      ],
      "metadata": {
        "colab": {
          "base_uri": "https://localhost:8080/"
        },
        "id": "qm6G431VsaIu",
        "outputId": "9503d9c4-f19a-4c24-ecfe-ce21602f1fd4"
      },
      "execution_count": 40,
      "outputs": [
        {
          "output_type": "stream",
          "name": "stdout",
          "text": [
            "초기금액 $50\n",
            "목표 금액 $250\n",
            "100번 중에서 17번 성공\n"
          ]
        }
      ]
    }
  ]
}