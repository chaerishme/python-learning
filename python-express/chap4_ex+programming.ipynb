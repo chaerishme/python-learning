{
  "nbformat": 4,
  "nbformat_minor": 0,
  "metadata": {
    "colab": {
      "provenance": []
    },
    "kernelspec": {
      "name": "python3",
      "display_name": "Python 3"
    },
    "language_info": {
      "name": "python"
    }
  },
  "cells": [
    {
      "cell_type": "markdown",
      "source": [
        "# Exercise"
      ],
      "metadata": {
        "id": "CsHV4mKsN2qu"
      }
    },
    {
      "cell_type": "code",
      "execution_count": null,
      "metadata": {
        "colab": {
          "base_uri": "https://localhost:8080/"
        },
        "id": "pbpmGy6_MfSn",
        "outputId": "a9954401-899f-4fc4-cd2c-04e1083819ca"
      },
      "outputs": [
        {
          "output_type": "stream",
          "name": "stdout",
          "text": [
            "Hello World!\n",
            "Hello World!\n",
            "Hello World!\n",
            "Hello World!\n",
            "Hello World!\n",
            "Hello World!\n"
          ]
        }
      ],
      "source": [
        "for x in range(10) :\n",
        "  if x > 5 : continue\n",
        "  if x > 8 : break\n",
        "  print(\"Hello World!\")"
      ]
    },
    {
      "cell_type": "code",
      "source": [
        "for i in range(0, 10, 2) :\n",
        "  print (i)"
      ],
      "metadata": {
        "colab": {
          "base_uri": "https://localhost:8080/"
        },
        "id": "6M8E7J9nMjx6",
        "outputId": "723e8b6b-f369-48b0-a73f-8e3d4cc183ba"
      },
      "execution_count": null,
      "outputs": [
        {
          "output_type": "stream",
          "name": "stdout",
          "text": [
            "0\n",
            "2\n",
            "4\n",
            "6\n",
            "8\n"
          ]
        }
      ]
    },
    {
      "cell_type": "code",
      "source": [
        "numbers = [10,20]\n",
        "items = [\"TV\",\"Phone\"]\n",
        "\n",
        "for x in numbers :\n",
        "  for y in items :\n",
        "    print(x, y)"
      ],
      "metadata": {
        "colab": {
          "base_uri": "https://localhost:8080/"
        },
        "id": "fFZzV-8RMzkG",
        "outputId": "ef787f67-b666-41ad-9f70-0f0df232b1a5"
      },
      "execution_count": null,
      "outputs": [
        {
          "output_type": "stream",
          "name": "stdout",
          "text": [
            "10 TV\n",
            "10 Phone\n",
            "20 TV\n",
            "20 Phone\n"
          ]
        }
      ]
    },
    {
      "cell_type": "markdown",
      "source": [
        "# Programming"
      ],
      "metadata": {
        "id": "CZKtJq8TNMO6"
      }
    },
    {
      "cell_type": "code",
      "source": [
        "#01\n",
        "x = 2\n",
        "while x <= 50 :\n",
        "  print(x)\n",
        "  x += 2"
      ],
      "metadata": {
        "colab": {
          "base_uri": "https://localhost:8080/"
        },
        "id": "-vrPJKPlNYPF",
        "outputId": "5a626e0b-7086-440e-e1f4-6583847dd88b"
      },
      "execution_count": null,
      "outputs": [
        {
          "output_type": "stream",
          "name": "stdout",
          "text": [
            "2\n",
            "4\n",
            "6\n",
            "8\n",
            "10\n",
            "12\n",
            "14\n",
            "16\n",
            "18\n",
            "20\n",
            "22\n",
            "24\n",
            "26\n",
            "28\n",
            "30\n",
            "32\n",
            "34\n",
            "36\n",
            "38\n",
            "40\n",
            "42\n",
            "44\n",
            "46\n",
            "48\n",
            "50\n"
          ]
        }
      ]
    },
    {
      "cell_type": "code",
      "source": [
        "#02\n",
        "myList = [11, 22, 23, 99, 81, 93, 35]\n",
        "x = 0\n",
        "sum = 0\n",
        "\n",
        "while x <= 6:\n",
        "  y = myList[x]\n",
        "  x += 1\n",
        "  sum += y\n",
        "\n",
        "print(\"정수들의 합은\", sum)"
      ],
      "metadata": {
        "id": "0BRDZvdxNnt6",
        "colab": {
          "base_uri": "https://localhost:8080/"
        },
        "outputId": "a5d66c52-5201-4d17-b537-0b8701d73cfa"
      },
      "execution_count": null,
      "outputs": [
        {
          "output_type": "stream",
          "name": "stdout",
          "text": [
            "정수들의 합은 364\n"
          ]
        }
      ]
    },
    {
      "cell_type": "code",
      "source": [
        "#03\n",
        "sum = 0\n",
        "for i in range(1,101):\n",
        "  if i%3 == 0 :\n",
        "    sum += i\n",
        "print(sum)"
      ],
      "metadata": {
        "id": "kjkevE_9N_iw",
        "colab": {
          "base_uri": "https://localhost:8080/"
        },
        "outputId": "20e673bc-0c3c-4dc9-e453-386f9dcaf952"
      },
      "execution_count": null,
      "outputs": [
        {
          "output_type": "stream",
          "name": "stdout",
          "text": [
            "1683\n"
          ]
        }
      ]
    },
    {
      "cell_type": "code",
      "source": [
        "#04\n",
        "n = int(input(\"정수를 입력하시오:\"))\n",
        "x = 1\n",
        "a = []\n",
        "\n",
        "while x <= n :\n",
        "  if n % x == 0 :\n",
        "    a.append(x)\n",
        "  x += 1\n",
        "\n",
        "print(\"약수: \", a)"
      ],
      "metadata": {
        "id": "5DgvMDJFaa0s",
        "colab": {
          "base_uri": "https://localhost:8080/"
        },
        "outputId": "32da484d-396b-4302-dc06-3622da5f0e6b"
      },
      "execution_count": null,
      "outputs": [
        {
          "output_type": "stream",
          "name": "stdout",
          "text": [
            "정수를 입력하시오:60\n",
            "약수:  [1, 2, 3, 4, 5, 6, 10, 12, 15, 20, 30, 60]\n"
          ]
        }
      ]
    },
    {
      "cell_type": "code",
      "source": [
        "#05\n",
        "n = int(input(\"정수를 입력하시오:\"))\n",
        "for a in range(1,n+1):\n",
        "  for b in range(1, a+1):\n",
        "    print (b, end=\" \")\n",
        "  print()"
      ],
      "metadata": {
        "id": "XVcGwWnxasFH",
        "colab": {
          "base_uri": "https://localhost:8080/"
        },
        "outputId": "1e414ee1-6b37-4cd7-dfd4-4a7e75c1b267"
      },
      "execution_count": null,
      "outputs": [
        {
          "output_type": "stream",
          "name": "stdout",
          "text": [
            "정수를 입력하시오:5\n",
            "1 \n",
            "1 2 \n",
            "1 2 3 \n",
            "1 2 3 4 \n",
            "1 2 3 4 5 \n"
          ]
        }
      ]
    },
    {
      "cell_type": "code",
      "source": [
        "#06\n",
        "import math\n",
        "\n",
        "print(\"각도   sin값   cos값\")\n",
        "degree = 0\n",
        "\n",
        "while degree <= 90 :\n",
        "  radian = 3.14 * degree / 180.0\n",
        "  print(\"%d   %.3f   %.3f\" %(degree, math.sin(radian), math.cos(radian)))\n",
        "  degree += 10"
      ],
      "metadata": {
        "colab": {
          "base_uri": "https://localhost:8080/"
        },
        "id": "zQTyfhbigplP",
        "outputId": "6d4f072b-f00b-45a6-b384-0db257416f82"
      },
      "execution_count": null,
      "outputs": [
        {
          "output_type": "stream",
          "name": "stdout",
          "text": [
            "각도   sin값   cos값\n",
            "0   0.000   1.000\n",
            "10   0.174   0.985\n",
            "20   0.342   0.940\n",
            "30   0.500   0.866\n",
            "40   0.643   0.766\n",
            "50   0.766   0.643\n",
            "60   0.866   0.500\n",
            "70   0.939   0.343\n",
            "80   0.985   0.174\n",
            "90   1.000   0.001\n"
          ]
        }
      ]
    },
    {
      "cell_type": "code",
      "source": [
        "#07\n",
        "import turtle\n",
        "import math\n",
        "\n",
        "t = turtle.Turtle()\n",
        "t.shape(\"turtle\")\n",
        "t.color('red', 'yellow')\n",
        "\n",
        "for x in range(0, 360):\n",
        "  t.goto(x, 200 * math.sin(x*3.14/180))"
      ],
      "metadata": {
        "id": "JaAXXTuLkSEp"
      },
      "execution_count": null,
      "outputs": []
    },
    {
      "cell_type": "code",
      "source": [
        "#08\n",
        "n = 0\n",
        "\n",
        "while n ** 2 < 500 :\n",
        "  n += 1\n",
        "\n",
        "print(n)"
      ],
      "metadata": {
        "colab": {
          "base_uri": "https://localhost:8080/"
        },
        "id": "9IW2DfiMmUBL",
        "outputId": "d9899607-8907-4f7b-e45d-2175474f221a"
      },
      "execution_count": null,
      "outputs": [
        {
          "output_type": "stream",
          "name": "stdout",
          "text": [
            "23\n"
          ]
        }
      ]
    },
    {
      "cell_type": "code",
      "source": [
        "#09\n",
        "n = 1\n",
        "x = 1\n",
        "\n",
        "for a in range(1,10):\n",
        "  for b in range(1,10):\n",
        "    print(a*b, \" \")"
      ],
      "metadata": {
        "colab": {
          "base_uri": "https://localhost:8080/"
        },
        "id": "W0d7KUqfnZ_4",
        "outputId": "59a853c1-cba2-4a05-ec6b-2ce7d94e6c0a"
      },
      "execution_count": null,
      "outputs": [
        {
          "output_type": "stream",
          "name": "stdout",
          "text": [
            "1  \n",
            "2  \n",
            "3  \n",
            "4  \n",
            "5  \n",
            "6  \n",
            "7  \n",
            "8  \n",
            "9  \n",
            "2  \n",
            "4  \n",
            "6  \n",
            "8  \n",
            "10  \n",
            "12  \n",
            "14  \n",
            "16  \n",
            "18  \n",
            "3  \n",
            "6  \n",
            "9  \n",
            "12  \n",
            "15  \n",
            "18  \n",
            "21  \n",
            "24  \n",
            "27  \n",
            "4  \n",
            "8  \n",
            "12  \n",
            "16  \n",
            "20  \n",
            "24  \n",
            "28  \n",
            "32  \n",
            "36  \n",
            "5  \n",
            "10  \n",
            "15  \n",
            "20  \n",
            "25  \n",
            "30  \n",
            "35  \n",
            "40  \n",
            "45  \n",
            "6  \n",
            "12  \n",
            "18  \n",
            "24  \n",
            "30  \n",
            "36  \n",
            "42  \n",
            "48  \n",
            "54  \n",
            "7  \n",
            "14  \n",
            "21  \n",
            "28  \n",
            "35  \n",
            "42  \n",
            "49  \n",
            "56  \n",
            "63  \n",
            "8  \n",
            "16  \n",
            "24  \n",
            "32  \n",
            "40  \n",
            "48  \n",
            "56  \n",
            "64  \n",
            "72  \n",
            "9  \n",
            "18  \n",
            "27  \n",
            "36  \n",
            "45  \n",
            "54  \n",
            "63  \n",
            "72  \n",
            "81  \n"
          ]
        }
      ]
    },
    {
      "cell_type": "code",
      "source": [
        "#10\n",
        "n = int(input(\"n의 값을 입력하시오:\"))\n",
        "result = 0\n",
        "\n",
        "for a in range (1, n+1):\n",
        "  result += a ** 2\n",
        "\n",
        "print(\"계산값은 %d입니다.\" %result)"
      ],
      "metadata": {
        "colab": {
          "base_uri": "https://localhost:8080/"
        },
        "id": "Kfb1tzmVoKKM",
        "outputId": "e1327bea-ff58-4e97-dd1f-8361c84d7b74"
      },
      "execution_count": null,
      "outputs": [
        {
          "output_type": "stream",
          "name": "stdout",
          "text": [
            "n의 값을 입력하시오:10\n",
            "계산값은 385입니다.\n"
          ]
        }
      ]
    },
    {
      "cell_type": "code",
      "source": [
        "#11\n",
        "x = int(input(\"첫 번째 정수를 입력하시오:\"))\n",
        "y = int(input(\"두 번째 정수를 입력하시오:\"))\n",
        "\n",
        "m = min(x, y)\n",
        "\n",
        "for x in range(1, m+1):\n",
        "    if x % m == 0 and y % m == 0:\n",
        "        gcd = m;\n",
        "print(\"%d와 %d의 최대공약수는 %d입니다.\" %(x, y, gcd))"
      ],
      "metadata": {
        "colab": {
          "base_uri": "https://localhost:8080/"
        },
        "id": "HLOrAlzxpDkp",
        "outputId": "073c64d2-91c0-4355-b4dd-6dbfc59a248d"
      },
      "execution_count": null,
      "outputs": [
        {
          "output_type": "stream",
          "name": "stdout",
          "text": [
            "첫 번째 정수를 입력하시오:3\n",
            "두 번째 정수를 입력하시오:6\n",
            "3와 6의 최대공약수는 3입니다.\n"
          ]
        }
      ]
    },
    {
      "cell_type": "code",
      "source": [
        "#12\n"
      ],
      "metadata": {
        "id": "qVlEnZ9urAVk"
      },
      "execution_count": null,
      "outputs": []
    },
    {
      "cell_type": "code",
      "source": [
        "#13\n",
        "n = int(input(\"몇 번째 항까지 구할까요?\"))\n",
        "\n",
        "n1, n2 = 0,1\n",
        "count = 0\n",
        "\n",
        "while count <= n:\n",
        "  print(n1, end=\",\")\n",
        "  nth = n1 + n2\n",
        "  n1 = n2\n",
        "  n2 = nth\n",
        "  count += 1"
      ],
      "metadata": {
        "colab": {
          "base_uri": "https://localhost:8080/"
        },
        "id": "6Djnga5grAQO",
        "outputId": "06b96952-fac2-4817-8dcd-6b49ea145893"
      },
      "execution_count": null,
      "outputs": [
        {
          "output_type": "stream",
          "name": "stdout",
          "text": [
            "몇 번째 항까지 구할까요?10\n",
            "0,1,1,2,3,5,8,13,21,34,55,"
          ]
        }
      ]
    },
    {
      "cell_type": "code",
      "source": [
        "#14\n",
        "for num in range(2,21) :\n",
        "  prime = True\n",
        "  for i in range(2,num):\n",
        "    if num % i == 0 :\n",
        "      prime = False\n",
        "      break\n",
        "  if prime:\n",
        "    print(num)"
      ],
      "metadata": {
        "colab": {
          "base_uri": "https://localhost:8080/"
        },
        "id": "dVCFYBqSsNlG",
        "outputId": "572ada2f-2046-4ef6-9c80-a02aebec6279"
      },
      "execution_count": null,
      "outputs": [
        {
          "output_type": "stream",
          "name": "stdout",
          "text": [
            "2\n",
            "3\n",
            "5\n",
            "7\n",
            "11\n",
            "13\n",
            "17\n",
            "19\n"
          ]
        }
      ]
    },
    {
      "cell_type": "code",
      "source": [
        "#15\n",
        "sum = 0\n",
        "for i in range (1,100,2):\n",
        "  sum += (i/(i+2))\n",
        "print(sum)"
      ],
      "metadata": {
        "colab": {
          "base_uri": "https://localhost:8080/"
        },
        "id": "iNr26nkMt1en",
        "outputId": "79efbb3f-2a1b-41a2-f5c6-a0dd4a48b654"
      },
      "execution_count": null,
      "outputs": [
        {
          "output_type": "stream",
          "name": "stdout",
          "text": [
            "46.10464832285218\n"
          ]
        }
      ]
    },
    {
      "cell_type": "code",
      "source": [
        "n = int(input(\"게임판의 크기:\"))\n",
        "for i in range (n) :\n",
        "  print(\"--- \"*n)\n",
        "  print(\"|  \"* (n+1))\n",
        "print(\"--- \"*n)"
      ],
      "metadata": {
        "colab": {
          "base_uri": "https://localhost:8080/"
        },
        "id": "hbws3z3lt1a1",
        "outputId": "adebf09e-40ef-4631-c84e-6c6b5cb61cac"
      },
      "execution_count": 76,
      "outputs": [
        {
          "output_type": "stream",
          "name": "stdout",
          "text": [
            "게임판의 크기:3\n",
            "--- --- --- \n",
            "|  |  |  |  \n",
            "--- --- --- \n",
            "|  |  |  |  \n",
            "--- --- --- \n",
            "|  |  |  |  \n",
            "--- --- --- \n"
          ]
        }
      ]
    },
    {
      "cell_type": "code",
      "source": [
        "#17\n",
        "for i in range (0,10):\n",
        "    if i % 3 == 0 and i % 5 == 0:\n",
        "      print(\"fizzbuzz\")\n",
        "    elif i % 3 == 0 :\n",
        "      print(\"fizz\")\n",
        "    elif i % 5 == 0 :\n",
        "      print(\"buzz\")\n",
        "    else :\n",
        "      print(\"*\")"
      ],
      "metadata": {
        "colab": {
          "base_uri": "https://localhost:8080/"
        },
        "id": "uzA1ddofweE4",
        "outputId": "ea7faab5-bb39-4fe0-c0bf-150997d74891"
      },
      "execution_count": null,
      "outputs": [
        {
          "output_type": "stream",
          "name": "stdout",
          "text": [
            "fizzbuzz\n",
            "*\n",
            "*\n",
            "fizz\n",
            "*\n",
            "buzz\n",
            "fizz\n",
            "*\n",
            "*\n",
            "fizz\n"
          ]
        }
      ]
    }
  ]
}