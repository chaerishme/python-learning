{
  "nbformat": 4,
  "nbformat_minor": 0,
  "metadata": {
    "colab": {
      "provenance": []
    },
    "kernelspec": {
      "name": "python3",
      "display_name": "Python 3"
    },
    "language_info": {
      "name": "python"
    }
  },
  "cells": [
    {
      "cell_type": "markdown",
      "source": [
        "# 리스트(list) 자료형 이해하기\n",
        "변수 : 하나의 값 (단일 값)만 입력된다.\n",
        "\n",
        "여러 개의 값을 입력하려면?\n",
        "\n",
        "리스트 : 여러 개의 값을 한 번에 저장할 수 있따.\n",
        "\n",
        "지정방식 : 대괄호 []를 사용하여 안쪽에 쉼표로 구분하여 여러 항목을 지정해준다.\n",
        "\n",
        "- 빈 리스트 만들기 \n",
        " \n",
        "  a = []\n",
        " \n",
        " print(a)\n",
        "\n",
        "  []\n",
        "- 내용있는 리스트 만들기\n",
        "\n",
        "  a = [10, 20, 30]\n",
        "\n",
        "  print (a)\n",
        "\n",
        "  [10, 20, 30]"
      ],
      "metadata": {
        "id": "Q0GtdlLk9JZ4"
      }
    },
    {
      "cell_type": "markdown",
      "source": [
        "# list에 관련된 기본 함수들\n",
        "- type 함수 : 자료형을 확인한다.\n",
        "\n",
        "- len 함수 : 리스트의 길이, 즉 항목의 개수를 알려준다.\n",
        "\n",
        "- sum 함수 : 리스트에 포함된 모든 항모의 값을 더한다. 숫자값인 경우에 사용가능하다."
      ],
      "metadata": {
        "id": "NXUE2atyAbec"
      }
    },
    {
      "cell_type": "markdown",
      "source": [
        "# range 함수로 수열 생성하기\n",
        "\n",
        "항목이 많은 경우 직접 값을 명시하여 입력하는 것은 어렵다.\n",
        "\n",
        "- range 함수\n",
        "\n",
        "  적용방식 : range(시작값, 종료값, 증가값)\n",
        "\n",
        "  시작값 : 시작되는 첫번째 값\n",
        "  \n",
        "  종료값 : 종료되는 기준 값. 이 값은 리스트에 포함되지 않음. (마지막 값이 아님_\n",
        "\n",
        "  증가값 : 증가 혹은 감소되는 값"
      ],
      "metadata": {
        "id": "yJI2MrW4-SzI"
      }
    },
    {
      "cell_type": "code",
      "source": [
        "#예제 - 수열만들기\n",
        "l = list(range(5, 101, 5))\n",
        "print(l)"
      ],
      "metadata": {
        "colab": {
          "base_uri": "https://localhost:8080/"
        },
        "id": "o3K8xPY9_ILr",
        "outputId": "b6babf6a-fc8a-4694-fc61-1c830455dc06"
      },
      "execution_count": null,
      "outputs": [
        {
          "output_type": "stream",
          "name": "stdout",
          "text": [
            "[5, 10, 15, 20, 25, 30, 35, 40, 45, 50, 55, 60, 65, 70, 75, 80, 85, 90, 95, 100]\n"
          ]
        }
      ]
    },
    {
      "cell_type": "markdown",
      "source": [
        "# for 반복문 문법\n",
        "for 반복변수 in 연속자료형 :\n",
        "반복할 명령"
      ],
      "metadata": {
        "id": "zSkx2uDJZpwE"
      }
    },
    {
      "cell_type": "code",
      "source": [
        "#예시 코드\n",
        "xlist = [10,30,50,70,90]\n",
        "\n",
        "for x in xlist :\n",
        "  print('x = ',x)"
      ],
      "metadata": {
        "colab": {
          "base_uri": "https://localhost:8080/"
        },
        "id": "udueP7BuaB1S",
        "outputId": "67308e75-42e8-497c-8a02-965533cf5d63"
      },
      "execution_count": null,
      "outputs": [
        {
          "output_type": "stream",
          "name": "stdout",
          "text": [
            "x =  10\n",
            "x =  30\n",
            "x =  50\n",
            "x =  70\n",
            "x =  90\n"
          ]
        }
      ]
    },
    {
      "cell_type": "code",
      "source": [
        "xlist = range(1,6,1)\n",
        "\n",
        "for x in xlist :\n",
        "  print('x =',x)"
      ],
      "metadata": {
        "colab": {
          "base_uri": "https://localhost:8080/"
        },
        "id": "dywDJEfSadj2",
        "outputId": "dd4cad9c-7d55-48f3-f245-6dfdf0e09e3e"
      },
      "execution_count": null,
      "outputs": [
        {
          "output_type": "stream",
          "name": "stdout",
          "text": [
            "x = 1\n",
            "x = 2\n",
            "x = 3\n",
            "x = 4\n",
            "x = 5\n"
          ]
        }
      ]
    },
    {
      "cell_type": "code",
      "source": [
        "for x in range (1,6,1) :\n",
        "  print('x =', x)"
      ],
      "metadata": {
        "colab": {
          "base_uri": "https://localhost:8080/"
        },
        "id": "rAGddAESanTS",
        "outputId": "38ced871-94d2-4096-d0e5-06b35e1e8dd9"
      },
      "execution_count": null,
      "outputs": [
        {
          "output_type": "stream",
          "name": "stdout",
          "text": [
            "x = 1\n",
            "x = 2\n",
            "x = 3\n",
            "x = 4\n",
            "x = 5\n"
          ]
        }
      ]
    },
    {
      "cell_type": "code",
      "source": [
        "#연습 문제 : 1부터 10까지의 숫자를 출력하는 코딩\n",
        "for x in range (1,11) :\n",
        "  print(\"count %d\" %x)\n",
        "print(\"end\")"
      ],
      "metadata": {
        "colab": {
          "base_uri": "https://localhost:8080/"
        },
        "id": "C2T6lufIbi5P",
        "outputId": "eede11cd-9591-47f2-c2de-d70d029706ca"
      },
      "execution_count": null,
      "outputs": [
        {
          "output_type": "stream",
          "name": "stdout",
          "text": [
            "count 1\n",
            "count 2\n",
            "count 3\n",
            "count 4\n",
            "count 5\n",
            "count 6\n",
            "count 7\n",
            "count 8\n",
            "count 9\n",
            "count 10\n",
            "end\n"
          ]
        }
      ]
    },
    {
      "cell_type": "code",
      "source": [
        "#while문 사용\n",
        "n = 1\n",
        "while n<= 10 :\n",
        "  print(\"count %d\" %n)\n",
        "  n += 1\n",
        "print(\"end\")"
      ],
      "metadata": {
        "colab": {
          "base_uri": "https://localhost:8080/"
        },
        "id": "7wNIEZthcRZv",
        "outputId": "a2928558-73b1-4a0b-c38e-c6116ee1b3cd"
      },
      "execution_count": null,
      "outputs": [
        {
          "output_type": "stream",
          "name": "stdout",
          "text": [
            "count 1\n",
            "count 2\n",
            "count 3\n",
            "count 4\n",
            "count 5\n",
            "count 6\n",
            "count 7\n",
            "count 8\n",
            "count 9\n",
            "count 10\n",
            "end\n"
          ]
        }
      ]
    },
    {
      "cell_type": "code",
      "source": [
        "#거꾸로 세기\n",
        "for x in range (10, 0, -1) :\n",
        "  print(\"count %d\" %x)\n",
        "print(\"end\")"
      ],
      "metadata": {
        "colab": {
          "base_uri": "https://localhost:8080/"
        },
        "id": "cx72H7ojcyaV",
        "outputId": "ee07374f-229d-4835-8ae7-93bf97552be9"
      },
      "execution_count": null,
      "outputs": [
        {
          "output_type": "stream",
          "name": "stdout",
          "text": [
            "count 10\n",
            "count 9\n",
            "count 8\n",
            "count 7\n",
            "count 6\n",
            "count 5\n",
            "count 4\n",
            "count 3\n",
            "count 2\n",
            "count 1\n",
            "end\n"
          ]
        }
      ]
    },
    {
      "cell_type": "markdown",
      "source": [
        "# 파라미터 생략하기"
      ],
      "metadata": {
        "id": "1oG8q-vGdkqT"
      }
    },
    {
      "cell_type": "code",
      "source": [
        "#세번째 파라미터 생략하기\n",
        "for x in range(1,11):\n",
        "  print(x)\n",
        "print(\"end\")"
      ],
      "metadata": {
        "colab": {
          "base_uri": "https://localhost:8080/"
        },
        "id": "VWdoiq5VdoS_",
        "outputId": "baf910a9-738d-4a60-8ce5-5557599a889d"
      },
      "execution_count": null,
      "outputs": [
        {
          "output_type": "stream",
          "name": "stdout",
          "text": [
            "1\n",
            "2\n",
            "3\n",
            "4\n",
            "5\n",
            "6\n",
            "7\n",
            "8\n",
            "9\n",
            "10\n",
            "end\n"
          ]
        }
      ]
    },
    {
      "cell_type": "code",
      "source": [
        "#첫번째, 세번째 파라미터 생략하기 \n",
        "for x in range(11) :\n",
        "  print(x)\n",
        "print(\"end\")"
      ],
      "metadata": {
        "colab": {
          "base_uri": "https://localhost:8080/"
        },
        "id": "xZFwoz6hdw1E",
        "outputId": "224545db-b4c6-489c-f0b6-0d40dbac1703"
      },
      "execution_count": null,
      "outputs": [
        {
          "output_type": "stream",
          "name": "stdout",
          "text": [
            "0\n",
            "1\n",
            "2\n",
            "3\n",
            "4\n",
            "5\n",
            "6\n",
            "7\n",
            "8\n",
            "9\n",
            "10\n",
            "end\n"
          ]
        }
      ]
    },
    {
      "cell_type": "code",
      "source": [
        "#Hello World를 화면에 5번 출력하기\n",
        "for x in range (5):\n",
        "  print(\"Hello World\")"
      ],
      "metadata": {
        "colab": {
          "base_uri": "https://localhost:8080/"
        },
        "id": "10ELxo1peDYf",
        "outputId": "02418730-22f5-4231-e67f-3d0b1d7167e0"
      },
      "execution_count": null,
      "outputs": [
        {
          "output_type": "stream",
          "name": "stdout",
          "text": [
            "Hello World\n",
            "Hello World\n",
            "Hello World\n",
            "Hello World\n",
            "Hello World\n"
          ]
        }
      ]
    }
  ]
}